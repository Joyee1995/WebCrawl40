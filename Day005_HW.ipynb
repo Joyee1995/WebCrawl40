{
 "cells": [
  {
   "cell_type": "markdown",
   "metadata": {},
   "source": [
    "# API 資料串接 - 以 Dcard API 實作範例\n",
    "\n",
    "* 了解 Dcard API 使用方式與回傳內容\n",
    "* 撰寫程式存取 API 且解析 JSON 格式資料\n"
   ]
  },
  {
   "cell_type": "markdown",
   "metadata": {},
   "source": [
    "## 作業目標\n",
    "\n",
    "* 請利用 API: https://www.dcard.tw/_api/forums/pet/posts?popular=true 回答下列問題：\n",
    "\n",
    "1. 這個 API 一次會回傳幾筆資料？每一筆資料包含哪些欄位？\n",
    "2. 取出每一筆資料的「標題」、「貼文時間」、「留言人數」、「按讚人數」\n",
    "3. 計算熱門/非熱門文章的「平均留言人數」與「平均按讚人數」"
   ]
  },
  {
   "cell_type": "code",
   "execution_count": 2,
   "metadata": {},
   "outputs": [],
   "source": [
    "# 1. 這個 API 一次會回傳幾筆資料？每一筆資料包含哪些欄位？\n",
    "import requests as rs\n",
    "import json\n",
    "r=rs.get('https://www.dcard.tw/_api/forums/pet/posts?popular=true')\n",
    "data=json.loads(r.text)"
   ]
  },
  {
   "cell_type": "code",
   "execution_count": 7,
   "metadata": {},
   "outputs": [
    {
     "name": "stdout",
     "output_type": "stream",
     "text": [
      "['找工作注意惡老闆。', '台灣跟國外公司的面試態度比較', '櫃姐，我真的很不想跟妳搭班了', 'Google台灣實習面試', '走還是不走', '勞工局檢舉😤😤😤', '第一份工作都做多久？', '瑞昱面試', '試用期請假', '有人知道「千住電子」嗎', '找工作越來越難', '華中企管顧問-這家公司有人挺貴嗎', '高階時間管理師?', '黑特⚠️⚠️想要做工的請注意這老闆 圖多 幫分享', '機械畢業的女生', '現在辭職會太衝動嗎', '6月底想辭職  怎麼辦?', '海底撈QA時間', '有人已經在Xpark工作的嗎？', '紓困補助跟普通失業補助有衝突嗎', '台新 Early win 實習生計畫', '全家超商上班-勞健保相關問題！', '好市多 面試問題', '離職前加班', '厭世', '#分享 紓困課程', '被記申誡的後果', '家樂福正職加班費', '工程助理管理師', '休息日有扣例假嗎？']\n",
      "['2020-05-06T23:15:47.115Z', '2020-05-06T23:02:07.202Z', '2020-05-06T21:36:17.814Z', '2020-05-06T19:59:10.701Z', '2020-05-06T19:29:17.453Z', '2020-05-06T18:50:04.884Z', '2020-05-06T18:29:01.456Z', '2020-05-06T17:32:15.908Z', '2020-05-06T17:24:08.805Z', '2020-05-06T17:22:47.956Z', '2020-05-06T17:13:34.194Z', '2020-05-06T16:58:39.192Z', '2020-05-06T16:32:27.563Z', '2020-05-06T16:22:00.971Z', '2020-05-06T16:09:26.734Z', '2020-05-06T15:58:14.621Z', '2020-05-06T15:51:32.338Z', '2020-05-06T15:39:24.553Z', '2020-05-06T15:36:49.497Z', '2020-05-06T15:27:57.815Z', '2020-05-06T15:24:30.383Z', '2020-05-06T15:19:29.269Z', '2020-05-06T15:14:40.395Z', '2020-05-06T14:35:41.115Z', '2020-05-06T14:22:34.671Z', '2020-05-06T14:01:08.005Z', '2020-05-06T13:58:27.742Z', '2020-05-06T13:55:26.587Z', '2020-05-06T13:31:44.908Z', '2020-05-06T12:52:49.126Z']\n",
      "[0, 0, 0, 0, 2, 1, 3, 0, 2, 0, 0, 0, 1, 0, 9, 13, 7, 4, 0, 1, 3, 0, 1, 2, 8, 0, 1, 0, 16, 5]\n",
      "[1, 3, 1, 0, 0, 0, 0, 0, 0, 0, 4, 1, 0, 8, 2, 4, 6, 0, 0, 1, 0, 0, 1, 1, 5, 4, 0, 0, 4, 0]\n"
     ]
    }
   ],
   "source": [
    "# 2. 取出每一筆資料的「標題」、「貼文時間」、「留言人數」、「按讚人數」\n",
    "# for d in data:\n",
    "#     print(d['title'])\n",
    "#     print(d['createdAt'])\n",
    "#     print(d['commentCount'])\n",
    "#     print(d['likeCount'])\n",
    "print([d['title'] for d in data])\n",
    "print([d['createdAt'] for d in data])\n",
    "print([d['commentCount'] for d in data])\n",
    "print([d['likeCount'] for d in data])"
   ]
  },
  {
   "cell_type": "code",
   "execution_count": 12,
   "metadata": {},
   "outputs": [
    {
     "name": "stdout",
     "output_type": "stream",
     "text": [
      "2.6666666666666665 1.5333333333333334\n",
      "2.6666666666666665 1.5333333333333334\n"
     ]
    }
   ],
   "source": [
    "# 3. 計算熱門/非熱門文章的「平均留言人數」與「平均按讚人數」\n",
    "commentCount = 0\n",
    "likeCount = 0\n",
    "for d in data:\n",
    "    commentCount += d['commentCount']\n",
    "    likeCount += d['likeCount']\n",
    "\n",
    "print(commentCount/len(data), likeCount/len(data))\n",
    "\n",
    "r = rs.get('https://www.dcard.tw/_api/forums/job/posts?popular=false')\n",
    "response = r.text\n",
    "data = json.loads(response)\n",
    "commentCount = 0\n",
    "likeCount = 0\n",
    "for d in data:\n",
    "    commentCount += d['commentCount']\n",
    "    likeCount += d['likeCount']\n",
    "\n",
    "print(commentCount/len(data), likeCount/len(data))"
   ]
  },
  {
   "cell_type": "code",
   "execution_count": null,
   "metadata": {},
   "outputs": [],
   "source": []
  },
  {
   "cell_type": "code",
   "execution_count": null,
   "metadata": {},
   "outputs": [],
   "source": []
  }
 ],
 "metadata": {
  "kernelspec": {
   "display_name": "Python 3",
   "language": "python",
   "name": "python3"
  },
  "language_info": {
   "codemirror_mode": {
    "name": "ipython",
    "version": 3
   },
   "file_extension": ".py",
   "mimetype": "text/x-python",
   "name": "python",
   "nbconvert_exporter": "python",
   "pygments_lexer": "ipython3",
   "version": "3.7.7"
  }
 },
 "nbformat": 4,
 "nbformat_minor": 2
}
